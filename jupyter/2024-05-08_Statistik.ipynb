{
 "cells": [
  {
   "cell_type": "code",
   "execution_count": 7,
   "id": "01a78a30-aeb2-4ca8-b1dd-9ea00353b9e0",
   "metadata": {},
   "outputs": [
    {
     "name": "stdout",
     "output_type": "stream",
     "text": [
      "A: 5\n",
      "B: 3\n",
      "C: 2\n",
      "D: 1\n"
     ]
    }
   ],
   "source": [
    "# Erste Schritte // Warm-Up\n",
    "from collections import Counter\n",
    "\n",
    "# Beispielliste\n",
    "data = ['A', 'B', 'A', 'C', 'A', 'B', 'D', 'A', 'B', 'C', 'A']\n",
    "\n",
    "# Verwende Counter, um die Häufigkeit der Elemente zu zählen. Warum Counter-Funktion? Mehr Infos hier: https://realpython.com/python-counter/\n",
    "frequency = Counter(data)\n",
    "\n",
    "# Ausgabe der Häufigkeiten\n",
    "for item, count in frequency.items():\n",
    "    print(f\"{item}: {count}\")"
   ]
  }
 ],
 "metadata": {
  "kernelspec": {
   "display_name": "Python 3 (ipykernel)",
   "language": "python",
   "name": "python3"
  },
  "language_info": {
   "codemirror_mode": {
    "name": "ipython",
    "version": 3
   },
   "file_extension": ".py",
   "mimetype": "text/x-python",
   "name": "python",
   "nbconvert_exporter": "python",
   "pygments_lexer": "ipython3",
   "version": "3.11.4"
  }
 },
 "nbformat": 4,
 "nbformat_minor": 5
}
